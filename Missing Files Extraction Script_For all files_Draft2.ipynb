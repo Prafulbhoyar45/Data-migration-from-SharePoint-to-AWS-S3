{
 "cells": [
  {
   "cell_type": "code",
   "execution_count": 1,
   "id": "d5399568",
   "metadata": {},
   "outputs": [],
   "source": [
    "# Task 1 Extract .7z zip files\n",
    "import os\n",
    "import py7zr\n",
    "from pathlib import Path\n",
    "\n",
    "def extract_7z_file(zip_path, output_folder, password):\n",
    "    with py7zr.SevenZipFile(zip_path, mode='r', password=password) as archive:\n",
    "        archive.extractall(output_folder)\n",
    "\n",
    "def extract_and_organize(zip_folder, output_base_folder, password):\n",
    "    zip_folder = Path(zip_folder)\n",
    "    output_base_folder = Path(output_base_folder)\n",
    "\n",
    "    # Ensure the output base folder exists\n",
    "    output_base_folder.mkdir(parents=True, exist_ok=True)\n",
    "\n",
    "    # Process each .7z file in the zip folder\n",
    "    for zip_file in zip_folder.glob('*.7z'):\n",
    "        # Extract folder name from the .7z file (excluding the extension)\n",
    "        folder_name = zip_file.stem\n",
    "\n",
    "        # Create an output folder based on the extracted folder name\n",
    "        output_folder = output_base_folder / folder_name\n",
    "        output_folder.mkdir(parents=True, exist_ok=True)\n",
    "\n",
    "        # Extract the .7z file to the corresponding output folder\n",
    "        extract_7z_file(zip_file, output_folder, password)\n",
    "\n",
    "if __name__ == \"__main__\":\n",
    "    # Set the path to the folder containing .7z files\n",
    "    zip_folder_path = \"C:/Users/Praful Bhoyar/Desktop/Sam Project\"\n",
    "\n",
    "    # Set the path to the base folder where extracted files will be organized\n",
    "    output_base_folder_path = \"C:/Users/Praful Bhoyar/Desktop/extracted7z\"\n",
    "\n",
    "    # Set the common password for all .7z files\n",
    "    common_password = \"6604667cd6f4785f728bbcefa0979ddde53ad134f06191ec0525990d153bcbe5\"\n",
    "\n",
    "    # Extract and organize the files\n",
    "    extract_and_organize(zip_folder_path, output_base_folder_path, common_password)\n"
   ]
  },
  {
   "cell_type": "code",
   "execution_count": 2,
   "id": "8d52d289",
   "metadata": {},
   "outputs": [],
   "source": [
    "# Task 2: Extract the nested files\n",
    "import os\n",
    "import zipfile\n",
    "\n",
    "def extract_zip_files(directory):\n",
    "    for root, dirs, files in os.walk(directory):\n",
    "        for file in files:\n",
    "            if file.endswith('.zip'):\n",
    "                zip_path = os.path.join(root, file)\n",
    "                extract_path = os.path.splitext(zip_path)[0]  # Remove the .zip extension\n",
    "                with zipfile.ZipFile(zip_path, 'r') as zip_ref:\n",
    "                    zip_ref.extractall(extract_path)\n",
    "                extract_zip_files(extract_path)  # Recursively extract nested zip files\n",
    "\n",
    "if __name__ == \"__main__\":\n",
    "    input_directory = \"C:/Users/Praful Bhoyar/Desktop/extracted7z\"\n",
    "    extract_zip_files(input_directory)\n"
   ]
  },
  {
   "cell_type": "code",
   "execution_count": 60,
   "id": "ce8262d9",
   "metadata": {},
   "outputs": [],
   "source": [
    "# Task 3: Analyse the path for final files\n",
    "import os\n",
    "import pandas as pd\n",
    "\n",
    "def create_dataframe(root_folder):\n",
    "    data = {'File Path': [], 'Folder Name': [], 'File Name': [], 'File Extension': []}\n",
    "\n",
    "    for foldername, subfolders, filenames in os.walk(root_folder):\n",
    "        for filename in filenames:\n",
    "            file_path = os.path.join(foldername, filename)\n",
    "            folder_name = os.path.basename(foldername)\n",
    "            file_name, file_extension = os.path.splitext(filename)\n",
    "\n",
    "            data['File Path'].append(file_path)\n",
    "            data['Folder Name'].append(folder_name)\n",
    "            data['File Name'].append(file_name)\n",
    "            data['File Extension'].append(file_extension)\n",
    "\n",
    "    df = pd.DataFrame(data)\n",
    "    return df\n",
    "\n",
    "# Replace 'your_folder_path' with the actual path to your folder\n",
    "folder_path = \"C:/Users/Praful Bhoyar/Desktop/extracted7z\"\n",
    "result_df = create_dataframe(folder_path)"
   ]
  },
  {
   "cell_type": "code",
   "execution_count": 61,
   "id": "a09b3422",
   "metadata": {},
   "outputs": [
    {
     "data": {
      "text/html": [
       "<div>\n",
       "<style scoped>\n",
       "    .dataframe tbody tr th:only-of-type {\n",
       "        vertical-align: middle;\n",
       "    }\n",
       "\n",
       "    .dataframe tbody tr th {\n",
       "        vertical-align: top;\n",
       "    }\n",
       "\n",
       "    .dataframe thead th {\n",
       "        text-align: right;\n",
       "    }\n",
       "</style>\n",
       "<table border=\"1\" class=\"dataframe\">\n",
       "  <thead>\n",
       "    <tr style=\"text-align: right;\">\n",
       "      <th></th>\n",
       "      <th>File Path</th>\n",
       "      <th>Folder Name</th>\n",
       "      <th>File Name</th>\n",
       "      <th>File Extension</th>\n",
       "    </tr>\n",
       "  </thead>\n",
       "  <tbody>\n",
       "    <tr>\n",
       "      <th>0</th>\n",
       "      <td>C:/Users/Praful Bhoyar/Desktop/extracted7z\\ext...</td>\n",
       "      <td>extract_images_p0086903ui5v_20230706203430-3@1...</td>\n",
       "      <td>extract_images_p0086903ui5v_20230706203430-3@1...</td>\n",
       "      <td>.zip</td>\n",
       "    </tr>\n",
       "    <tr>\n",
       "      <th>1</th>\n",
       "      <td>C:/Users/Praful Bhoyar/Desktop/extracted7z\\ext...</td>\n",
       "      <td>extract_images_p0086903ui5v_20230706203430-3@1...</td>\n",
       "      <td>00E9D55DF2D749A691C0</td>\n",
       "      <td>.zip</td>\n",
       "    </tr>\n",
       "    <tr>\n",
       "      <th>2</th>\n",
       "      <td>C:/Users/Praful Bhoyar/Desktop/extracted7z\\ext...</td>\n",
       "      <td>extract_images_p0086903ui5v_20230706203430-3@1...</td>\n",
       "      <td>00E9FE4AA2C14A87BC45</td>\n",
       "      <td>.zip</td>\n",
       "    </tr>\n",
       "    <tr>\n",
       "      <th>3</th>\n",
       "      <td>C:/Users/Praful Bhoyar/Desktop/extracted7z\\ext...</td>\n",
       "      <td>extract_images_p0086903ui5v_20230706203430-3@1...</td>\n",
       "      <td>00EA1117687F4A4EABB5</td>\n",
       "      <td>.zip</td>\n",
       "    </tr>\n",
       "    <tr>\n",
       "      <th>4</th>\n",
       "      <td>C:/Users/Praful Bhoyar/Desktop/extracted7z\\ext...</td>\n",
       "      <td>extract_images_p0086903ui5v_20230706203430-3@1...</td>\n",
       "      <td>00EA336A67F83C94B8133B12946F7AE0</td>\n",
       "      <td>.png</td>\n",
       "    </tr>\n",
       "  </tbody>\n",
       "</table>\n",
       "</div>"
      ],
      "text/plain": [
       "                                           File Path  \\\n",
       "0  C:/Users/Praful Bhoyar/Desktop/extracted7z\\ext...   \n",
       "1  C:/Users/Praful Bhoyar/Desktop/extracted7z\\ext...   \n",
       "2  C:/Users/Praful Bhoyar/Desktop/extracted7z\\ext...   \n",
       "3  C:/Users/Praful Bhoyar/Desktop/extracted7z\\ext...   \n",
       "4  C:/Users/Praful Bhoyar/Desktop/extracted7z\\ext...   \n",
       "\n",
       "                                         Folder Name  \\\n",
       "0  extract_images_p0086903ui5v_20230706203430-3@1...   \n",
       "1  extract_images_p0086903ui5v_20230706203430-3@1...   \n",
       "2  extract_images_p0086903ui5v_20230706203430-3@1...   \n",
       "3  extract_images_p0086903ui5v_20230706203430-3@1...   \n",
       "4  extract_images_p0086903ui5v_20230706203430-3@1...   \n",
       "\n",
       "                                           File Name File Extension  \n",
       "0  extract_images_p0086903ui5v_20230706203430-3@1...           .zip  \n",
       "1                               00E9D55DF2D749A691C0           .zip  \n",
       "2                               00E9FE4AA2C14A87BC45           .zip  \n",
       "3                               00EA1117687F4A4EABB5           .zip  \n",
       "4                   00EA336A67F83C94B8133B12946F7AE0           .png  "
      ]
     },
     "execution_count": 61,
     "metadata": {},
     "output_type": "execute_result"
    }
   ],
   "source": [
    "result_df.head()"
   ]
  },
  {
   "cell_type": "code",
   "execution_count": 62,
   "id": "86660814",
   "metadata": {},
   "outputs": [],
   "source": [
    "df2 = result_df"
   ]
  },
  {
   "cell_type": "markdown",
   "id": "56bd0b2e",
   "metadata": {},
   "source": [
    "### A. Preprocess the \"File Path\""
   ]
  },
  {
   "cell_type": "code",
   "execution_count": 63,
   "id": "9a57ae63",
   "metadata": {},
   "outputs": [
    {
     "data": {
      "text/plain": [
       "'C:/Users/Praful Bhoyar/Desktop/extracted7z\\\\extract_images_p0086903ui5v_20230706203430-3@1_1of1.zip\\\\extract_images_p0086903ui5v_20230706203430-3@1_1of1\\\\00E9D55DF2D749A691C0.zip'"
      ]
     },
     "execution_count": 63,
     "metadata": {},
     "output_type": "execute_result"
    }
   ],
   "source": [
    "result_df[\"File Path\"][1]"
   ]
  },
  {
   "cell_type": "code",
   "execution_count": 64,
   "id": "7a6daef4",
   "metadata": {},
   "outputs": [],
   "source": [
    "# Remove the extra charectors\n",
    "# 43 Charectors\n",
    "# Remove first 43 characters from the column\n",
    "df2[\"File Path\"] = df2[\"File Path\"].str[43:]"
   ]
  },
  {
   "cell_type": "code",
   "execution_count": 55,
   "id": "06754d7d",
   "metadata": {},
   "outputs": [
    {
     "data": {
      "text/html": [
       "<div>\n",
       "<style scoped>\n",
       "    .dataframe tbody tr th:only-of-type {\n",
       "        vertical-align: middle;\n",
       "    }\n",
       "\n",
       "    .dataframe tbody tr th {\n",
       "        vertical-align: top;\n",
       "    }\n",
       "\n",
       "    .dataframe thead th {\n",
       "        text-align: right;\n",
       "    }\n",
       "</style>\n",
       "<table border=\"1\" class=\"dataframe\">\n",
       "  <thead>\n",
       "    <tr style=\"text-align: right;\">\n",
       "      <th></th>\n",
       "      <th>File Path</th>\n",
       "      <th>Folder Name</th>\n",
       "      <th>File Name</th>\n",
       "      <th>File Extension</th>\n",
       "      <th>root folder</th>\n",
       "      <th>root folder1</th>\n",
       "      <th>SharePointPath</th>\n",
       "      <th>ZipFile</th>\n",
       "      <th>Directory</th>\n",
       "      <th>FileName</th>\n",
       "    </tr>\n",
       "  </thead>\n",
       "  <tbody>\n",
       "    <tr>\n",
       "      <th>0</th>\n",
       "      <td>3@1_1of1.zip\\extract_images_p0086903ui5v_20230...</td>\n",
       "      <td>extract_images_p0086903ui5v_20230706203430-3@1...</td>\n",
       "      <td>extract_images_p0086903ui5v_20230706203430-3@1...</td>\n",
       "      <td>.zip</td>\n",
       "      <td>extract_images_p0086903ui5v_20230706203430-3@1...</td>\n",
       "      <td>extract_images_p0086903ui5v_20230706203430-3@1...</td>\n",
       "      <td>Alvi_2023/Page 25</td>\n",
       "      <td>extract_images_p0086903ui5v_20230706203430-3@1...</td>\n",
       "      <td>extract_images_p0086903ui5v_20230706203430-3@1...</td>\n",
       "      <td>extract_images_p0086903ui5v_20230706203430-3@1...</td>\n",
       "    </tr>\n",
       "    <tr>\n",
       "      <th>1</th>\n",
       "      <td>3@1_1of1.zip\\extract_images_p0086903ui5v_20230...</td>\n",
       "      <td>extract_images_p0086903ui5v_20230706203430-3@1...</td>\n",
       "      <td>00E9D55DF2D749A691C0</td>\n",
       "      <td>.zip</td>\n",
       "      <td>extract_images_p0086903ui5v_20230706203430-3@1...</td>\n",
       "      <td>extract_images_p0086903ui5v_20230706203430-3@1...</td>\n",
       "      <td>Alvi_2023/Page 25</td>\n",
       "      <td>extract_images_p0086903ui5v_20230706203430-3@1...</td>\n",
       "      <td>extract_images_p0086903ui5v_20230706203430-3@1...</td>\n",
       "      <td>00E9D55DF2D749A691C0.zip</td>\n",
       "    </tr>\n",
       "    <tr>\n",
       "      <th>2</th>\n",
       "      <td>3@1_1of1.zip\\extract_images_p0086903ui5v_20230...</td>\n",
       "      <td>extract_images_p0086903ui5v_20230706203430-3@1...</td>\n",
       "      <td>00E9FE4AA2C14A87BC45</td>\n",
       "      <td>.zip</td>\n",
       "      <td>extract_images_p0086903ui5v_20230706203430-3@1...</td>\n",
       "      <td>extract_images_p0086903ui5v_20230706203430-3@1...</td>\n",
       "      <td>Alvi_2023/Page 25</td>\n",
       "      <td>extract_images_p0086903ui5v_20230706203430-3@1...</td>\n",
       "      <td>extract_images_p0086903ui5v_20230706203430-3@1...</td>\n",
       "      <td>00E9FE4AA2C14A87BC45.zip</td>\n",
       "    </tr>\n",
       "    <tr>\n",
       "      <th>3</th>\n",
       "      <td>3@1_1of1.zip\\extract_images_p0086903ui5v_20230...</td>\n",
       "      <td>extract_images_p0086903ui5v_20230706203430-3@1...</td>\n",
       "      <td>00EA1117687F4A4EABB5</td>\n",
       "      <td>.zip</td>\n",
       "      <td>extract_images_p0086903ui5v_20230706203430-3@1...</td>\n",
       "      <td>extract_images_p0086903ui5v_20230706203430-3@1...</td>\n",
       "      <td>Alvi_2023/Page 25</td>\n",
       "      <td>extract_images_p0086903ui5v_20230706203430-3@1...</td>\n",
       "      <td>extract_images_p0086903ui5v_20230706203430-3@1...</td>\n",
       "      <td>00EA1117687F4A4EABB5.zip</td>\n",
       "    </tr>\n",
       "    <tr>\n",
       "      <th>4</th>\n",
       "      <td>3@1_1of1.zip\\extract_images_p0086903ui5v_20230...</td>\n",
       "      <td>extract_images_p0086903ui5v_20230706203430-3@1...</td>\n",
       "      <td>00EA336A67F83C94B8133B12946F7AE0</td>\n",
       "      <td>.png</td>\n",
       "      <td>extract_images_p0086903ui5v_20230706203430-3@1...</td>\n",
       "      <td>extract_images_p0086903ui5v_20230706203430-3@1...</td>\n",
       "      <td>Alvi_2023/Page 25</td>\n",
       "      <td>extract_images_p0086903ui5v_20230706203430-3@1...</td>\n",
       "      <td>extract_images_p0086903ui5v_20230706203430-3@1...</td>\n",
       "      <td>00EA336A67F83C94B8133B12946F7AE0.png</td>\n",
       "    </tr>\n",
       "  </tbody>\n",
       "</table>\n",
       "</div>"
      ],
      "text/plain": [
       "                                           File Path  \\\n",
       "0  3@1_1of1.zip\\extract_images_p0086903ui5v_20230...   \n",
       "1  3@1_1of1.zip\\extract_images_p0086903ui5v_20230...   \n",
       "2  3@1_1of1.zip\\extract_images_p0086903ui5v_20230...   \n",
       "3  3@1_1of1.zip\\extract_images_p0086903ui5v_20230...   \n",
       "4  3@1_1of1.zip\\extract_images_p0086903ui5v_20230...   \n",
       "\n",
       "                                         Folder Name  \\\n",
       "0  extract_images_p0086903ui5v_20230706203430-3@1...   \n",
       "1  extract_images_p0086903ui5v_20230706203430-3@1...   \n",
       "2  extract_images_p0086903ui5v_20230706203430-3@1...   \n",
       "3  extract_images_p0086903ui5v_20230706203430-3@1...   \n",
       "4  extract_images_p0086903ui5v_20230706203430-3@1...   \n",
       "\n",
       "                                           File Name File Extension  \\\n",
       "0  extract_images_p0086903ui5v_20230706203430-3@1...           .zip   \n",
       "1                               00E9D55DF2D749A691C0           .zip   \n",
       "2                               00E9FE4AA2C14A87BC45           .zip   \n",
       "3                               00EA1117687F4A4EABB5           .zip   \n",
       "4                   00EA336A67F83C94B8133B12946F7AE0           .png   \n",
       "\n",
       "                                         root folder  \\\n",
       "0  extract_images_p0086903ui5v_20230706203430-3@1...   \n",
       "1  extract_images_p0086903ui5v_20230706203430-3@1...   \n",
       "2  extract_images_p0086903ui5v_20230706203430-3@1...   \n",
       "3  extract_images_p0086903ui5v_20230706203430-3@1...   \n",
       "4  extract_images_p0086903ui5v_20230706203430-3@1...   \n",
       "\n",
       "                                        root folder1     SharePointPath  \\\n",
       "0  extract_images_p0086903ui5v_20230706203430-3@1...  Alvi_2023/Page 25   \n",
       "1  extract_images_p0086903ui5v_20230706203430-3@1...  Alvi_2023/Page 25   \n",
       "2  extract_images_p0086903ui5v_20230706203430-3@1...  Alvi_2023/Page 25   \n",
       "3  extract_images_p0086903ui5v_20230706203430-3@1...  Alvi_2023/Page 25   \n",
       "4  extract_images_p0086903ui5v_20230706203430-3@1...  Alvi_2023/Page 25   \n",
       "\n",
       "                                             ZipFile  \\\n",
       "0  extract_images_p0086903ui5v_20230706203430-3@1...   \n",
       "1  extract_images_p0086903ui5v_20230706203430-3@1...   \n",
       "2  extract_images_p0086903ui5v_20230706203430-3@1...   \n",
       "3  extract_images_p0086903ui5v_20230706203430-3@1...   \n",
       "4  extract_images_p0086903ui5v_20230706203430-3@1...   \n",
       "\n",
       "                                           Directory  \\\n",
       "0  extract_images_p0086903ui5v_20230706203430-3@1...   \n",
       "1  extract_images_p0086903ui5v_20230706203430-3@1...   \n",
       "2  extract_images_p0086903ui5v_20230706203430-3@1...   \n",
       "3  extract_images_p0086903ui5v_20230706203430-3@1...   \n",
       "4  extract_images_p0086903ui5v_20230706203430-3@1...   \n",
       "\n",
       "                                            FileName  \n",
       "0  extract_images_p0086903ui5v_20230706203430-3@1...  \n",
       "1                           00E9D55DF2D749A691C0.zip  \n",
       "2                           00E9FE4AA2C14A87BC45.zip  \n",
       "3                           00EA1117687F4A4EABB5.zip  \n",
       "4               00EA336A67F83C94B8133B12946F7AE0.png  "
      ]
     },
     "execution_count": 55,
     "metadata": {},
     "output_type": "execute_result"
    }
   ],
   "source": [
    "df2.head()"
   ]
  },
  {
   "cell_type": "code",
   "execution_count": 66,
   "id": "4f04beac",
   "metadata": {},
   "outputs": [
    {
     "data": {
      "text/plain": [
       "(7335, 4)"
      ]
     },
     "execution_count": 66,
     "metadata": {},
     "output_type": "execute_result"
    }
   ],
   "source": [
    "df2.shape"
   ]
  },
  {
   "cell_type": "code",
   "execution_count": 67,
   "id": "36b4918d",
   "metadata": {},
   "outputs": [
    {
     "data": {
      "text/plain": [
       "'extract_images_p0086903ui5v_20230706203430-3@1_1of1.zip\\\\extract_images_p0086903ui5v_20230706203430-3@1_1of1\\\\00E9D55DF2D749A691C0.zip'"
      ]
     },
     "execution_count": 67,
     "metadata": {},
     "output_type": "execute_result"
    }
   ],
   "source": [
    "df2[\"File Path\"][1]"
   ]
  },
  {
   "cell_type": "code",
   "execution_count": 68,
   "id": "9a009637",
   "metadata": {},
   "outputs": [],
   "source": [
    "# Create a new column with the first 43 characters\n",
    "df2['root folder'] = df2['File Path'].str[:55]"
   ]
  },
  {
   "cell_type": "code",
   "execution_count": 69,
   "id": "5f515ea2",
   "metadata": {},
   "outputs": [
    {
     "data": {
      "text/html": [
       "<div>\n",
       "<style scoped>\n",
       "    .dataframe tbody tr th:only-of-type {\n",
       "        vertical-align: middle;\n",
       "    }\n",
       "\n",
       "    .dataframe tbody tr th {\n",
       "        vertical-align: top;\n",
       "    }\n",
       "\n",
       "    .dataframe thead th {\n",
       "        text-align: right;\n",
       "    }\n",
       "</style>\n",
       "<table border=\"1\" class=\"dataframe\">\n",
       "  <thead>\n",
       "    <tr style=\"text-align: right;\">\n",
       "      <th></th>\n",
       "      <th>File Path</th>\n",
       "      <th>Folder Name</th>\n",
       "      <th>File Name</th>\n",
       "      <th>File Extension</th>\n",
       "      <th>root folder</th>\n",
       "    </tr>\n",
       "  </thead>\n",
       "  <tbody>\n",
       "    <tr>\n",
       "      <th>0</th>\n",
       "      <td>extract_images_p0086903ui5v_20230706203430-3@1...</td>\n",
       "      <td>extract_images_p0086903ui5v_20230706203430-3@1...</td>\n",
       "      <td>extract_images_p0086903ui5v_20230706203430-3@1...</td>\n",
       "      <td>.zip</td>\n",
       "      <td>extract_images_p0086903ui5v_20230706203430-3@1...</td>\n",
       "    </tr>\n",
       "    <tr>\n",
       "      <th>1</th>\n",
       "      <td>extract_images_p0086903ui5v_20230706203430-3@1...</td>\n",
       "      <td>extract_images_p0086903ui5v_20230706203430-3@1...</td>\n",
       "      <td>00E9D55DF2D749A691C0</td>\n",
       "      <td>.zip</td>\n",
       "      <td>extract_images_p0086903ui5v_20230706203430-3@1...</td>\n",
       "    </tr>\n",
       "    <tr>\n",
       "      <th>2</th>\n",
       "      <td>extract_images_p0086903ui5v_20230706203430-3@1...</td>\n",
       "      <td>extract_images_p0086903ui5v_20230706203430-3@1...</td>\n",
       "      <td>00E9FE4AA2C14A87BC45</td>\n",
       "      <td>.zip</td>\n",
       "      <td>extract_images_p0086903ui5v_20230706203430-3@1...</td>\n",
       "    </tr>\n",
       "    <tr>\n",
       "      <th>3</th>\n",
       "      <td>extract_images_p0086903ui5v_20230706203430-3@1...</td>\n",
       "      <td>extract_images_p0086903ui5v_20230706203430-3@1...</td>\n",
       "      <td>00EA1117687F4A4EABB5</td>\n",
       "      <td>.zip</td>\n",
       "      <td>extract_images_p0086903ui5v_20230706203430-3@1...</td>\n",
       "    </tr>\n",
       "    <tr>\n",
       "      <th>4</th>\n",
       "      <td>extract_images_p0086903ui5v_20230706203430-3@1...</td>\n",
       "      <td>extract_images_p0086903ui5v_20230706203430-3@1...</td>\n",
       "      <td>00EA336A67F83C94B8133B12946F7AE0</td>\n",
       "      <td>.png</td>\n",
       "      <td>extract_images_p0086903ui5v_20230706203430-3@1...</td>\n",
       "    </tr>\n",
       "  </tbody>\n",
       "</table>\n",
       "</div>"
      ],
      "text/plain": [
       "                                           File Path  \\\n",
       "0  extract_images_p0086903ui5v_20230706203430-3@1...   \n",
       "1  extract_images_p0086903ui5v_20230706203430-3@1...   \n",
       "2  extract_images_p0086903ui5v_20230706203430-3@1...   \n",
       "3  extract_images_p0086903ui5v_20230706203430-3@1...   \n",
       "4  extract_images_p0086903ui5v_20230706203430-3@1...   \n",
       "\n",
       "                                         Folder Name  \\\n",
       "0  extract_images_p0086903ui5v_20230706203430-3@1...   \n",
       "1  extract_images_p0086903ui5v_20230706203430-3@1...   \n",
       "2  extract_images_p0086903ui5v_20230706203430-3@1...   \n",
       "3  extract_images_p0086903ui5v_20230706203430-3@1...   \n",
       "4  extract_images_p0086903ui5v_20230706203430-3@1...   \n",
       "\n",
       "                                           File Name File Extension  \\\n",
       "0  extract_images_p0086903ui5v_20230706203430-3@1...           .zip   \n",
       "1                               00E9D55DF2D749A691C0           .zip   \n",
       "2                               00E9FE4AA2C14A87BC45           .zip   \n",
       "3                               00EA1117687F4A4EABB5           .zip   \n",
       "4                   00EA336A67F83C94B8133B12946F7AE0           .png   \n",
       "\n",
       "                                         root folder  \n",
       "0  extract_images_p0086903ui5v_20230706203430-3@1...  \n",
       "1  extract_images_p0086903ui5v_20230706203430-3@1...  \n",
       "2  extract_images_p0086903ui5v_20230706203430-3@1...  \n",
       "3  extract_images_p0086903ui5v_20230706203430-3@1...  \n",
       "4  extract_images_p0086903ui5v_20230706203430-3@1...  "
      ]
     },
     "execution_count": 69,
     "metadata": {},
     "output_type": "execute_result"
    }
   ],
   "source": [
    "df2.head()"
   ]
  },
  {
   "cell_type": "code",
   "execution_count": 70,
   "id": "12f08458",
   "metadata": {},
   "outputs": [
    {
     "data": {
      "text/plain": [
       "extract_images_p0086903ui5v_20230706203430-42@1_1of1.zi    1979\n",
       "extract_images_p0086903ui5v_20230706203430-3@1_1of1.zip    1960\n",
       "extract_images_p0086903ui5v_20230706203430-426@1_1of1.z    1914\n",
       "extract_images_p0086903ui5v_20230706203430-42@2_1of1.zi     850\n",
       "extract_images_p0086903ui5v_20230706203430-425@2_1of1.z     632\n",
       "Name: root folder, dtype: int64"
      ]
     },
     "execution_count": 70,
     "metadata": {},
     "output_type": "execute_result"
    }
   ],
   "source": [
    "df2['root folder'].value_counts()"
   ]
  },
  {
   "cell_type": "code",
   "execution_count": 71,
   "id": "001c849f",
   "metadata": {},
   "outputs": [],
   "source": [
    "df2['root folder1'] = df2['File Path'].str.split('\\\\').str[0]\n"
   ]
  },
  {
   "cell_type": "code",
   "execution_count": 72,
   "id": "3e140829",
   "metadata": {},
   "outputs": [
    {
     "data": {
      "text/plain": [
       "extract_images_p0086903ui5v_20230706203430-42@1_1of1.zip     1979\n",
       "extract_images_p0086903ui5v_20230706203430-3@1_1of1.zip      1960\n",
       "extract_images_p0086903ui5v_20230706203430-426@1_1of1.zip    1914\n",
       "extract_images_p0086903ui5v_20230706203430-42@2_1of1.zip      850\n",
       "extract_images_p0086903ui5v_20230706203430-425@2_1of1.zip     632\n",
       "Name: root folder1, dtype: int64"
      ]
     },
     "execution_count": 72,
     "metadata": {},
     "output_type": "execute_result"
    }
   ],
   "source": [
    "df2['root folder1'].value_counts()"
   ]
  },
  {
   "cell_type": "code",
   "execution_count": 73,
   "id": "d13b3544",
   "metadata": {},
   "outputs": [],
   "source": [
    "# make New column as \"SharePointPath\"\n",
    "df2[\"SharePointPath\"] = \"Alvi_2023/Page 25\""
   ]
  },
  {
   "cell_type": "code",
   "execution_count": 74,
   "id": "a0c57aee",
   "metadata": {},
   "outputs": [
    {
     "data": {
      "text/html": [
       "<div>\n",
       "<style scoped>\n",
       "    .dataframe tbody tr th:only-of-type {\n",
       "        vertical-align: middle;\n",
       "    }\n",
       "\n",
       "    .dataframe tbody tr th {\n",
       "        vertical-align: top;\n",
       "    }\n",
       "\n",
       "    .dataframe thead th {\n",
       "        text-align: right;\n",
       "    }\n",
       "</style>\n",
       "<table border=\"1\" class=\"dataframe\">\n",
       "  <thead>\n",
       "    <tr style=\"text-align: right;\">\n",
       "      <th></th>\n",
       "      <th>File Path</th>\n",
       "      <th>Folder Name</th>\n",
       "      <th>File Name</th>\n",
       "      <th>File Extension</th>\n",
       "      <th>root folder</th>\n",
       "      <th>root folder1</th>\n",
       "      <th>SharePointPath</th>\n",
       "    </tr>\n",
       "  </thead>\n",
       "  <tbody>\n",
       "    <tr>\n",
       "      <th>0</th>\n",
       "      <td>extract_images_p0086903ui5v_20230706203430-3@1...</td>\n",
       "      <td>extract_images_p0086903ui5v_20230706203430-3@1...</td>\n",
       "      <td>extract_images_p0086903ui5v_20230706203430-3@1...</td>\n",
       "      <td>.zip</td>\n",
       "      <td>extract_images_p0086903ui5v_20230706203430-3@1...</td>\n",
       "      <td>extract_images_p0086903ui5v_20230706203430-3@1...</td>\n",
       "      <td>Alvi_2023/Page 25</td>\n",
       "    </tr>\n",
       "    <tr>\n",
       "      <th>1</th>\n",
       "      <td>extract_images_p0086903ui5v_20230706203430-3@1...</td>\n",
       "      <td>extract_images_p0086903ui5v_20230706203430-3@1...</td>\n",
       "      <td>00E9D55DF2D749A691C0</td>\n",
       "      <td>.zip</td>\n",
       "      <td>extract_images_p0086903ui5v_20230706203430-3@1...</td>\n",
       "      <td>extract_images_p0086903ui5v_20230706203430-3@1...</td>\n",
       "      <td>Alvi_2023/Page 25</td>\n",
       "    </tr>\n",
       "    <tr>\n",
       "      <th>2</th>\n",
       "      <td>extract_images_p0086903ui5v_20230706203430-3@1...</td>\n",
       "      <td>extract_images_p0086903ui5v_20230706203430-3@1...</td>\n",
       "      <td>00E9FE4AA2C14A87BC45</td>\n",
       "      <td>.zip</td>\n",
       "      <td>extract_images_p0086903ui5v_20230706203430-3@1...</td>\n",
       "      <td>extract_images_p0086903ui5v_20230706203430-3@1...</td>\n",
       "      <td>Alvi_2023/Page 25</td>\n",
       "    </tr>\n",
       "    <tr>\n",
       "      <th>3</th>\n",
       "      <td>extract_images_p0086903ui5v_20230706203430-3@1...</td>\n",
       "      <td>extract_images_p0086903ui5v_20230706203430-3@1...</td>\n",
       "      <td>00EA1117687F4A4EABB5</td>\n",
       "      <td>.zip</td>\n",
       "      <td>extract_images_p0086903ui5v_20230706203430-3@1...</td>\n",
       "      <td>extract_images_p0086903ui5v_20230706203430-3@1...</td>\n",
       "      <td>Alvi_2023/Page 25</td>\n",
       "    </tr>\n",
       "    <tr>\n",
       "      <th>4</th>\n",
       "      <td>extract_images_p0086903ui5v_20230706203430-3@1...</td>\n",
       "      <td>extract_images_p0086903ui5v_20230706203430-3@1...</td>\n",
       "      <td>00EA336A67F83C94B8133B12946F7AE0</td>\n",
       "      <td>.png</td>\n",
       "      <td>extract_images_p0086903ui5v_20230706203430-3@1...</td>\n",
       "      <td>extract_images_p0086903ui5v_20230706203430-3@1...</td>\n",
       "      <td>Alvi_2023/Page 25</td>\n",
       "    </tr>\n",
       "  </tbody>\n",
       "</table>\n",
       "</div>"
      ],
      "text/plain": [
       "                                           File Path  \\\n",
       "0  extract_images_p0086903ui5v_20230706203430-3@1...   \n",
       "1  extract_images_p0086903ui5v_20230706203430-3@1...   \n",
       "2  extract_images_p0086903ui5v_20230706203430-3@1...   \n",
       "3  extract_images_p0086903ui5v_20230706203430-3@1...   \n",
       "4  extract_images_p0086903ui5v_20230706203430-3@1...   \n",
       "\n",
       "                                         Folder Name  \\\n",
       "0  extract_images_p0086903ui5v_20230706203430-3@1...   \n",
       "1  extract_images_p0086903ui5v_20230706203430-3@1...   \n",
       "2  extract_images_p0086903ui5v_20230706203430-3@1...   \n",
       "3  extract_images_p0086903ui5v_20230706203430-3@1...   \n",
       "4  extract_images_p0086903ui5v_20230706203430-3@1...   \n",
       "\n",
       "                                           File Name File Extension  \\\n",
       "0  extract_images_p0086903ui5v_20230706203430-3@1...           .zip   \n",
       "1                               00E9D55DF2D749A691C0           .zip   \n",
       "2                               00E9FE4AA2C14A87BC45           .zip   \n",
       "3                               00EA1117687F4A4EABB5           .zip   \n",
       "4                   00EA336A67F83C94B8133B12946F7AE0           .png   \n",
       "\n",
       "                                         root folder  \\\n",
       "0  extract_images_p0086903ui5v_20230706203430-3@1...   \n",
       "1  extract_images_p0086903ui5v_20230706203430-3@1...   \n",
       "2  extract_images_p0086903ui5v_20230706203430-3@1...   \n",
       "3  extract_images_p0086903ui5v_20230706203430-3@1...   \n",
       "4  extract_images_p0086903ui5v_20230706203430-3@1...   \n",
       "\n",
       "                                        root folder1     SharePointPath  \n",
       "0  extract_images_p0086903ui5v_20230706203430-3@1...  Alvi_2023/Page 25  \n",
       "1  extract_images_p0086903ui5v_20230706203430-3@1...  Alvi_2023/Page 25  \n",
       "2  extract_images_p0086903ui5v_20230706203430-3@1...  Alvi_2023/Page 25  \n",
       "3  extract_images_p0086903ui5v_20230706203430-3@1...  Alvi_2023/Page 25  \n",
       "4  extract_images_p0086903ui5v_20230706203430-3@1...  Alvi_2023/Page 25  "
      ]
     },
     "execution_count": 74,
     "metadata": {},
     "output_type": "execute_result"
    }
   ],
   "source": [
    "df2.head()"
   ]
  },
  {
   "cell_type": "code",
   "execution_count": 75,
   "id": "373badd5",
   "metadata": {},
   "outputs": [],
   "source": [
    "# Zip File\n",
    "df2[\"ZipFile\"] = df2[\"root folder1\"]"
   ]
  },
  {
   "cell_type": "code",
   "execution_count": 76,
   "id": "a131a192",
   "metadata": {},
   "outputs": [
    {
     "data": {
      "text/html": [
       "<div>\n",
       "<style scoped>\n",
       "    .dataframe tbody tr th:only-of-type {\n",
       "        vertical-align: middle;\n",
       "    }\n",
       "\n",
       "    .dataframe tbody tr th {\n",
       "        vertical-align: top;\n",
       "    }\n",
       "\n",
       "    .dataframe thead th {\n",
       "        text-align: right;\n",
       "    }\n",
       "</style>\n",
       "<table border=\"1\" class=\"dataframe\">\n",
       "  <thead>\n",
       "    <tr style=\"text-align: right;\">\n",
       "      <th></th>\n",
       "      <th>File Path</th>\n",
       "      <th>Folder Name</th>\n",
       "      <th>File Name</th>\n",
       "      <th>File Extension</th>\n",
       "      <th>root folder</th>\n",
       "      <th>root folder1</th>\n",
       "      <th>SharePointPath</th>\n",
       "      <th>ZipFile</th>\n",
       "    </tr>\n",
       "  </thead>\n",
       "  <tbody>\n",
       "    <tr>\n",
       "      <th>0</th>\n",
       "      <td>extract_images_p0086903ui5v_20230706203430-3@1...</td>\n",
       "      <td>extract_images_p0086903ui5v_20230706203430-3@1...</td>\n",
       "      <td>extract_images_p0086903ui5v_20230706203430-3@1...</td>\n",
       "      <td>.zip</td>\n",
       "      <td>extract_images_p0086903ui5v_20230706203430-3@1...</td>\n",
       "      <td>extract_images_p0086903ui5v_20230706203430-3@1...</td>\n",
       "      <td>Alvi_2023/Page 25</td>\n",
       "      <td>extract_images_p0086903ui5v_20230706203430-3@1...</td>\n",
       "    </tr>\n",
       "    <tr>\n",
       "      <th>1</th>\n",
       "      <td>extract_images_p0086903ui5v_20230706203430-3@1...</td>\n",
       "      <td>extract_images_p0086903ui5v_20230706203430-3@1...</td>\n",
       "      <td>00E9D55DF2D749A691C0</td>\n",
       "      <td>.zip</td>\n",
       "      <td>extract_images_p0086903ui5v_20230706203430-3@1...</td>\n",
       "      <td>extract_images_p0086903ui5v_20230706203430-3@1...</td>\n",
       "      <td>Alvi_2023/Page 25</td>\n",
       "      <td>extract_images_p0086903ui5v_20230706203430-3@1...</td>\n",
       "    </tr>\n",
       "  </tbody>\n",
       "</table>\n",
       "</div>"
      ],
      "text/plain": [
       "                                           File Path  \\\n",
       "0  extract_images_p0086903ui5v_20230706203430-3@1...   \n",
       "1  extract_images_p0086903ui5v_20230706203430-3@1...   \n",
       "\n",
       "                                         Folder Name  \\\n",
       "0  extract_images_p0086903ui5v_20230706203430-3@1...   \n",
       "1  extract_images_p0086903ui5v_20230706203430-3@1...   \n",
       "\n",
       "                                           File Name File Extension  \\\n",
       "0  extract_images_p0086903ui5v_20230706203430-3@1...           .zip   \n",
       "1                               00E9D55DF2D749A691C0           .zip   \n",
       "\n",
       "                                         root folder  \\\n",
       "0  extract_images_p0086903ui5v_20230706203430-3@1...   \n",
       "1  extract_images_p0086903ui5v_20230706203430-3@1...   \n",
       "\n",
       "                                        root folder1     SharePointPath  \\\n",
       "0  extract_images_p0086903ui5v_20230706203430-3@1...  Alvi_2023/Page 25   \n",
       "1  extract_images_p0086903ui5v_20230706203430-3@1...  Alvi_2023/Page 25   \n",
       "\n",
       "                                             ZipFile  \n",
       "0  extract_images_p0086903ui5v_20230706203430-3@1...  \n",
       "1  extract_images_p0086903ui5v_20230706203430-3@1...  "
      ]
     },
     "execution_count": 76,
     "metadata": {},
     "output_type": "execute_result"
    }
   ],
   "source": [
    "df2.head(2)"
   ]
  },
  {
   "cell_type": "code",
   "execution_count": 77,
   "id": "318dffa1",
   "metadata": {},
   "outputs": [
    {
     "data": {
      "text/plain": [
       "extract_images_p0086903ui5v_20230706203430-426@1_1of1    501\n",
       "extract_images_p0086903ui5v_20230706203430-3@1_1of1      501\n",
       "extract_images_p0086903ui5v_20230706203430-42@1_1of1     501\n",
       "extract_images_p0086903ui5v_20230706203430-42@2_1of1     244\n",
       "extract_images_p0086903ui5v_20230706203430-425@2_1of1    152\n",
       "12FC622DF3CB43EEA88A                                      46\n",
       "131E1520F7E341408EA4                                      42\n",
       "0103BBA8E4BA44C688FB                                      39\n",
       "010A818B7E5149079979                                      38\n",
       "1342C411F0CA4C8A8560                                      30\n",
       "Name: Folder Name, dtype: int64"
      ]
     },
     "execution_count": 77,
     "metadata": {},
     "output_type": "execute_result"
    }
   ],
   "source": [
    "# Folder Name\n",
    "df2[\"Folder Name\"].value_counts().head(10)"
   ]
  },
  {
   "cell_type": "code",
   "execution_count": 78,
   "id": "ea3f73ea",
   "metadata": {},
   "outputs": [],
   "source": [
    "# Directory\n",
    "df2[\"Directory\"] = df2[\"Folder Name\"]"
   ]
  },
  {
   "cell_type": "code",
   "execution_count": 79,
   "id": "629021be",
   "metadata": {},
   "outputs": [],
   "source": [
    "df2[\"FileName\"] = df2[\"File Name\"] + df2[\"File Extension\"]"
   ]
  },
  {
   "cell_type": "code",
   "execution_count": 80,
   "id": "9f21163a",
   "metadata": {},
   "outputs": [
    {
     "data": {
      "text/html": [
       "<div>\n",
       "<style scoped>\n",
       "    .dataframe tbody tr th:only-of-type {\n",
       "        vertical-align: middle;\n",
       "    }\n",
       "\n",
       "    .dataframe tbody tr th {\n",
       "        vertical-align: top;\n",
       "    }\n",
       "\n",
       "    .dataframe thead th {\n",
       "        text-align: right;\n",
       "    }\n",
       "</style>\n",
       "<table border=\"1\" class=\"dataframe\">\n",
       "  <thead>\n",
       "    <tr style=\"text-align: right;\">\n",
       "      <th></th>\n",
       "      <th>File Path</th>\n",
       "      <th>Folder Name</th>\n",
       "      <th>File Name</th>\n",
       "      <th>File Extension</th>\n",
       "      <th>root folder</th>\n",
       "      <th>root folder1</th>\n",
       "      <th>SharePointPath</th>\n",
       "      <th>ZipFile</th>\n",
       "      <th>Directory</th>\n",
       "      <th>FileName</th>\n",
       "    </tr>\n",
       "  </thead>\n",
       "  <tbody>\n",
       "    <tr>\n",
       "      <th>0</th>\n",
       "      <td>extract_images_p0086903ui5v_20230706203430-3@1...</td>\n",
       "      <td>extract_images_p0086903ui5v_20230706203430-3@1...</td>\n",
       "      <td>extract_images_p0086903ui5v_20230706203430-3@1...</td>\n",
       "      <td>.zip</td>\n",
       "      <td>extract_images_p0086903ui5v_20230706203430-3@1...</td>\n",
       "      <td>extract_images_p0086903ui5v_20230706203430-3@1...</td>\n",
       "      <td>Alvi_2023/Page 25</td>\n",
       "      <td>extract_images_p0086903ui5v_20230706203430-3@1...</td>\n",
       "      <td>extract_images_p0086903ui5v_20230706203430-3@1...</td>\n",
       "      <td>extract_images_p0086903ui5v_20230706203430-3@1...</td>\n",
       "    </tr>\n",
       "    <tr>\n",
       "      <th>1</th>\n",
       "      <td>extract_images_p0086903ui5v_20230706203430-3@1...</td>\n",
       "      <td>extract_images_p0086903ui5v_20230706203430-3@1...</td>\n",
       "      <td>00E9D55DF2D749A691C0</td>\n",
       "      <td>.zip</td>\n",
       "      <td>extract_images_p0086903ui5v_20230706203430-3@1...</td>\n",
       "      <td>extract_images_p0086903ui5v_20230706203430-3@1...</td>\n",
       "      <td>Alvi_2023/Page 25</td>\n",
       "      <td>extract_images_p0086903ui5v_20230706203430-3@1...</td>\n",
       "      <td>extract_images_p0086903ui5v_20230706203430-3@1...</td>\n",
       "      <td>00E9D55DF2D749A691C0.zip</td>\n",
       "    </tr>\n",
       "    <tr>\n",
       "      <th>2</th>\n",
       "      <td>extract_images_p0086903ui5v_20230706203430-3@1...</td>\n",
       "      <td>extract_images_p0086903ui5v_20230706203430-3@1...</td>\n",
       "      <td>00E9FE4AA2C14A87BC45</td>\n",
       "      <td>.zip</td>\n",
       "      <td>extract_images_p0086903ui5v_20230706203430-3@1...</td>\n",
       "      <td>extract_images_p0086903ui5v_20230706203430-3@1...</td>\n",
       "      <td>Alvi_2023/Page 25</td>\n",
       "      <td>extract_images_p0086903ui5v_20230706203430-3@1...</td>\n",
       "      <td>extract_images_p0086903ui5v_20230706203430-3@1...</td>\n",
       "      <td>00E9FE4AA2C14A87BC45.zip</td>\n",
       "    </tr>\n",
       "    <tr>\n",
       "      <th>3</th>\n",
       "      <td>extract_images_p0086903ui5v_20230706203430-3@1...</td>\n",
       "      <td>extract_images_p0086903ui5v_20230706203430-3@1...</td>\n",
       "      <td>00EA1117687F4A4EABB5</td>\n",
       "      <td>.zip</td>\n",
       "      <td>extract_images_p0086903ui5v_20230706203430-3@1...</td>\n",
       "      <td>extract_images_p0086903ui5v_20230706203430-3@1...</td>\n",
       "      <td>Alvi_2023/Page 25</td>\n",
       "      <td>extract_images_p0086903ui5v_20230706203430-3@1...</td>\n",
       "      <td>extract_images_p0086903ui5v_20230706203430-3@1...</td>\n",
       "      <td>00EA1117687F4A4EABB5.zip</td>\n",
       "    </tr>\n",
       "    <tr>\n",
       "      <th>4</th>\n",
       "      <td>extract_images_p0086903ui5v_20230706203430-3@1...</td>\n",
       "      <td>extract_images_p0086903ui5v_20230706203430-3@1...</td>\n",
       "      <td>00EA336A67F83C94B8133B12946F7AE0</td>\n",
       "      <td>.png</td>\n",
       "      <td>extract_images_p0086903ui5v_20230706203430-3@1...</td>\n",
       "      <td>extract_images_p0086903ui5v_20230706203430-3@1...</td>\n",
       "      <td>Alvi_2023/Page 25</td>\n",
       "      <td>extract_images_p0086903ui5v_20230706203430-3@1...</td>\n",
       "      <td>extract_images_p0086903ui5v_20230706203430-3@1...</td>\n",
       "      <td>00EA336A67F83C94B8133B12946F7AE0.png</td>\n",
       "    </tr>\n",
       "  </tbody>\n",
       "</table>\n",
       "</div>"
      ],
      "text/plain": [
       "                                           File Path  \\\n",
       "0  extract_images_p0086903ui5v_20230706203430-3@1...   \n",
       "1  extract_images_p0086903ui5v_20230706203430-3@1...   \n",
       "2  extract_images_p0086903ui5v_20230706203430-3@1...   \n",
       "3  extract_images_p0086903ui5v_20230706203430-3@1...   \n",
       "4  extract_images_p0086903ui5v_20230706203430-3@1...   \n",
       "\n",
       "                                         Folder Name  \\\n",
       "0  extract_images_p0086903ui5v_20230706203430-3@1...   \n",
       "1  extract_images_p0086903ui5v_20230706203430-3@1...   \n",
       "2  extract_images_p0086903ui5v_20230706203430-3@1...   \n",
       "3  extract_images_p0086903ui5v_20230706203430-3@1...   \n",
       "4  extract_images_p0086903ui5v_20230706203430-3@1...   \n",
       "\n",
       "                                           File Name File Extension  \\\n",
       "0  extract_images_p0086903ui5v_20230706203430-3@1...           .zip   \n",
       "1                               00E9D55DF2D749A691C0           .zip   \n",
       "2                               00E9FE4AA2C14A87BC45           .zip   \n",
       "3                               00EA1117687F4A4EABB5           .zip   \n",
       "4                   00EA336A67F83C94B8133B12946F7AE0           .png   \n",
       "\n",
       "                                         root folder  \\\n",
       "0  extract_images_p0086903ui5v_20230706203430-3@1...   \n",
       "1  extract_images_p0086903ui5v_20230706203430-3@1...   \n",
       "2  extract_images_p0086903ui5v_20230706203430-3@1...   \n",
       "3  extract_images_p0086903ui5v_20230706203430-3@1...   \n",
       "4  extract_images_p0086903ui5v_20230706203430-3@1...   \n",
       "\n",
       "                                        root folder1     SharePointPath  \\\n",
       "0  extract_images_p0086903ui5v_20230706203430-3@1...  Alvi_2023/Page 25   \n",
       "1  extract_images_p0086903ui5v_20230706203430-3@1...  Alvi_2023/Page 25   \n",
       "2  extract_images_p0086903ui5v_20230706203430-3@1...  Alvi_2023/Page 25   \n",
       "3  extract_images_p0086903ui5v_20230706203430-3@1...  Alvi_2023/Page 25   \n",
       "4  extract_images_p0086903ui5v_20230706203430-3@1...  Alvi_2023/Page 25   \n",
       "\n",
       "                                             ZipFile  \\\n",
       "0  extract_images_p0086903ui5v_20230706203430-3@1...   \n",
       "1  extract_images_p0086903ui5v_20230706203430-3@1...   \n",
       "2  extract_images_p0086903ui5v_20230706203430-3@1...   \n",
       "3  extract_images_p0086903ui5v_20230706203430-3@1...   \n",
       "4  extract_images_p0086903ui5v_20230706203430-3@1...   \n",
       "\n",
       "                                           Directory  \\\n",
       "0  extract_images_p0086903ui5v_20230706203430-3@1...   \n",
       "1  extract_images_p0086903ui5v_20230706203430-3@1...   \n",
       "2  extract_images_p0086903ui5v_20230706203430-3@1...   \n",
       "3  extract_images_p0086903ui5v_20230706203430-3@1...   \n",
       "4  extract_images_p0086903ui5v_20230706203430-3@1...   \n",
       "\n",
       "                                            FileName  \n",
       "0  extract_images_p0086903ui5v_20230706203430-3@1...  \n",
       "1                           00E9D55DF2D749A691C0.zip  \n",
       "2                           00E9FE4AA2C14A87BC45.zip  \n",
       "3                           00EA1117687F4A4EABB5.zip  \n",
       "4               00EA336A67F83C94B8133B12946F7AE0.png  "
      ]
     },
     "execution_count": 80,
     "metadata": {},
     "output_type": "execute_result"
    }
   ],
   "source": [
    "df2.head()"
   ]
  },
  {
   "cell_type": "code",
   "execution_count": 81,
   "id": "ff84a5cf",
   "metadata": {},
   "outputs": [
    {
     "data": {
      "text/plain": [
       "Index(['File Path', 'Folder Name', 'File Name', 'File Extension',\n",
       "       'root folder', 'root folder1', 'SharePointPath', 'ZipFile', 'Directory',\n",
       "       'FileName'],\n",
       "      dtype='object')"
      ]
     },
     "execution_count": 81,
     "metadata": {},
     "output_type": "execute_result"
    }
   ],
   "source": [
    "df2.columns"
   ]
  },
  {
   "cell_type": "code",
   "execution_count": 82,
   "id": "5478c4f2",
   "metadata": {},
   "outputs": [
    {
     "data": {
      "text/html": [
       "<div>\n",
       "<style scoped>\n",
       "    .dataframe tbody tr th:only-of-type {\n",
       "        vertical-align: middle;\n",
       "    }\n",
       "\n",
       "    .dataframe tbody tr th {\n",
       "        vertical-align: top;\n",
       "    }\n",
       "\n",
       "    .dataframe thead th {\n",
       "        text-align: right;\n",
       "    }\n",
       "</style>\n",
       "<table border=\"1\" class=\"dataframe\">\n",
       "  <thead>\n",
       "    <tr style=\"text-align: right;\">\n",
       "      <th></th>\n",
       "      <th>SharePointPath</th>\n",
       "      <th>ZipFile</th>\n",
       "      <th>Directory</th>\n",
       "      <th>FileName</th>\n",
       "    </tr>\n",
       "  </thead>\n",
       "  <tbody>\n",
       "    <tr>\n",
       "      <th>0</th>\n",
       "      <td>Alvi_2023/Page 25</td>\n",
       "      <td>extract_images_p0086903ui5v_20230706203430-3@1...</td>\n",
       "      <td>extract_images_p0086903ui5v_20230706203430-3@1...</td>\n",
       "      <td>extract_images_p0086903ui5v_20230706203430-3@1...</td>\n",
       "    </tr>\n",
       "    <tr>\n",
       "      <th>1</th>\n",
       "      <td>Alvi_2023/Page 25</td>\n",
       "      <td>extract_images_p0086903ui5v_20230706203430-3@1...</td>\n",
       "      <td>extract_images_p0086903ui5v_20230706203430-3@1...</td>\n",
       "      <td>00E9D55DF2D749A691C0.zip</td>\n",
       "    </tr>\n",
       "    <tr>\n",
       "      <th>2</th>\n",
       "      <td>Alvi_2023/Page 25</td>\n",
       "      <td>extract_images_p0086903ui5v_20230706203430-3@1...</td>\n",
       "      <td>extract_images_p0086903ui5v_20230706203430-3@1...</td>\n",
       "      <td>00E9FE4AA2C14A87BC45.zip</td>\n",
       "    </tr>\n",
       "    <tr>\n",
       "      <th>3</th>\n",
       "      <td>Alvi_2023/Page 25</td>\n",
       "      <td>extract_images_p0086903ui5v_20230706203430-3@1...</td>\n",
       "      <td>extract_images_p0086903ui5v_20230706203430-3@1...</td>\n",
       "      <td>00EA1117687F4A4EABB5.zip</td>\n",
       "    </tr>\n",
       "    <tr>\n",
       "      <th>4</th>\n",
       "      <td>Alvi_2023/Page 25</td>\n",
       "      <td>extract_images_p0086903ui5v_20230706203430-3@1...</td>\n",
       "      <td>extract_images_p0086903ui5v_20230706203430-3@1...</td>\n",
       "      <td>00EA336A67F83C94B8133B12946F7AE0.png</td>\n",
       "    </tr>\n",
       "  </tbody>\n",
       "</table>\n",
       "</div>"
      ],
      "text/plain": [
       "      SharePointPath                                            ZipFile  \\\n",
       "0  Alvi_2023/Page 25  extract_images_p0086903ui5v_20230706203430-3@1...   \n",
       "1  Alvi_2023/Page 25  extract_images_p0086903ui5v_20230706203430-3@1...   \n",
       "2  Alvi_2023/Page 25  extract_images_p0086903ui5v_20230706203430-3@1...   \n",
       "3  Alvi_2023/Page 25  extract_images_p0086903ui5v_20230706203430-3@1...   \n",
       "4  Alvi_2023/Page 25  extract_images_p0086903ui5v_20230706203430-3@1...   \n",
       "\n",
       "                                           Directory  \\\n",
       "0  extract_images_p0086903ui5v_20230706203430-3@1...   \n",
       "1  extract_images_p0086903ui5v_20230706203430-3@1...   \n",
       "2  extract_images_p0086903ui5v_20230706203430-3@1...   \n",
       "3  extract_images_p0086903ui5v_20230706203430-3@1...   \n",
       "4  extract_images_p0086903ui5v_20230706203430-3@1...   \n",
       "\n",
       "                                            FileName  \n",
       "0  extract_images_p0086903ui5v_20230706203430-3@1...  \n",
       "1                           00E9D55DF2D749A691C0.zip  \n",
       "2                           00E9FE4AA2C14A87BC45.zip  \n",
       "3                           00EA1117687F4A4EABB5.zip  \n",
       "4               00EA336A67F83C94B8133B12946F7AE0.png  "
      ]
     },
     "execution_count": 82,
     "metadata": {},
     "output_type": "execute_result"
    }
   ],
   "source": [
    "df2_final = df2[[\"SharePointPath\",\"ZipFile\",\"Directory\",\"FileName\"]]\n",
    "df2_final.head()"
   ]
  },
  {
   "cell_type": "code",
   "execution_count": 83,
   "id": "17636ac1",
   "metadata": {},
   "outputs": [
    {
     "data": {
      "text/plain": [
       "0"
      ]
     },
     "execution_count": 83,
     "metadata": {},
     "output_type": "execute_result"
    }
   ],
   "source": [
    "df2_final.duplicated().sum()"
   ]
  },
  {
   "cell_type": "code",
   "execution_count": 84,
   "id": "5aed5ad3",
   "metadata": {},
   "outputs": [
    {
     "data": {
      "text/plain": [
       "'extract_images_p0086903ui5v_20230706203430-3@1_1of1.zip'"
      ]
     },
     "execution_count": 84,
     "metadata": {},
     "output_type": "execute_result"
    }
   ],
   "source": [
    "df2_final[\"ZipFile\"][0]"
   ]
  },
  {
   "cell_type": "code",
   "execution_count": 85,
   "id": "b360be06",
   "metadata": {},
   "outputs": [
    {
     "data": {
      "text/plain": [
       "'extract_images_p0086903ui5v_20230706203430-3@1_1of1.zip'"
      ]
     },
     "execution_count": 85,
     "metadata": {},
     "output_type": "execute_result"
    }
   ],
   "source": [
    "df2_final[\"Directory\"][0]"
   ]
  },
  {
   "cell_type": "code",
   "execution_count": 86,
   "id": "54a15d77",
   "metadata": {},
   "outputs": [
    {
     "data": {
      "text/plain": [
       "'extract_images_p0086903ui5v_20230706203430-3@1_1of1.zip'"
      ]
     },
     "execution_count": 86,
     "metadata": {},
     "output_type": "execute_result"
    }
   ],
   "source": [
    "df2_final[\"FileName\"][0]"
   ]
  },
  {
   "cell_type": "code",
   "execution_count": 87,
   "id": "51933741",
   "metadata": {},
   "outputs": [],
   "source": [
    "# # Remove rows where values in 'ZipFile', 'Directory','FileName' are the same\n",
    "# df2_final = df2_final.drop_duplicates(subset=['ZipFile', 'Directory'], keep=False)"
   ]
  },
  {
   "cell_type": "code",
   "execution_count": 89,
   "id": "cbbd6aa1",
   "metadata": {},
   "outputs": [],
   "source": [
    "df3 = df2_final"
   ]
  },
  {
   "cell_type": "code",
   "execution_count": 108,
   "id": "80d4c2e2",
   "metadata": {},
   "outputs": [],
   "source": [
    "# Remove rows where all three columns have the same value\n",
    "# df2_final = df2_final[~(df2_final['ZipFile'] == df2_final['Directory'] == df2_final['FileName'])]\n",
    "# Remove rows where all three columns have the same value\n",
    "df1 = df2_final[~((df2_final['ZipFile'] == df2_final['Directory']) & (df2_final['Directory'] == df2_final['FileName']))]"
   ]
  },
  {
   "cell_type": "code",
   "execution_count": 93,
   "id": "95a79d81",
   "metadata": {},
   "outputs": [
    {
     "data": {
      "text/html": [
       "<div>\n",
       "<style scoped>\n",
       "    .dataframe tbody tr th:only-of-type {\n",
       "        vertical-align: middle;\n",
       "    }\n",
       "\n",
       "    .dataframe tbody tr th {\n",
       "        vertical-align: top;\n",
       "    }\n",
       "\n",
       "    .dataframe thead th {\n",
       "        text-align: right;\n",
       "    }\n",
       "</style>\n",
       "<table border=\"1\" class=\"dataframe\">\n",
       "  <thead>\n",
       "    <tr style=\"text-align: right;\">\n",
       "      <th></th>\n",
       "      <th>SharePointPath</th>\n",
       "      <th>ZipFile</th>\n",
       "      <th>Directory</th>\n",
       "      <th>FileName</th>\n",
       "    </tr>\n",
       "  </thead>\n",
       "  <tbody>\n",
       "    <tr>\n",
       "      <th>1</th>\n",
       "      <td>Alvi_2023/Page 25</td>\n",
       "      <td>extract_images_p0086903ui5v_20230706203430-3@1...</td>\n",
       "      <td>extract_images_p0086903ui5v_20230706203430-3@1...</td>\n",
       "      <td>00E9D55DF2D749A691C0.zip</td>\n",
       "    </tr>\n",
       "    <tr>\n",
       "      <th>2</th>\n",
       "      <td>Alvi_2023/Page 25</td>\n",
       "      <td>extract_images_p0086903ui5v_20230706203430-3@1...</td>\n",
       "      <td>extract_images_p0086903ui5v_20230706203430-3@1...</td>\n",
       "      <td>00E9FE4AA2C14A87BC45.zip</td>\n",
       "    </tr>\n",
       "    <tr>\n",
       "      <th>3</th>\n",
       "      <td>Alvi_2023/Page 25</td>\n",
       "      <td>extract_images_p0086903ui5v_20230706203430-3@1...</td>\n",
       "      <td>extract_images_p0086903ui5v_20230706203430-3@1...</td>\n",
       "      <td>00EA1117687F4A4EABB5.zip</td>\n",
       "    </tr>\n",
       "  </tbody>\n",
       "</table>\n",
       "</div>"
      ],
      "text/plain": [
       "      SharePointPath                                            ZipFile  \\\n",
       "1  Alvi_2023/Page 25  extract_images_p0086903ui5v_20230706203430-3@1...   \n",
       "2  Alvi_2023/Page 25  extract_images_p0086903ui5v_20230706203430-3@1...   \n",
       "3  Alvi_2023/Page 25  extract_images_p0086903ui5v_20230706203430-3@1...   \n",
       "\n",
       "                                           Directory                  FileName  \n",
       "1  extract_images_p0086903ui5v_20230706203430-3@1...  00E9D55DF2D749A691C0.zip  \n",
       "2  extract_images_p0086903ui5v_20230706203430-3@1...  00E9FE4AA2C14A87BC45.zip  \n",
       "3  extract_images_p0086903ui5v_20230706203430-3@1...  00EA1117687F4A4EABB5.zip  "
      ]
     },
     "execution_count": 93,
     "metadata": {},
     "output_type": "execute_result"
    }
   ],
   "source": [
    "df1.head(3)"
   ]
  },
  {
   "cell_type": "code",
   "execution_count": 109,
   "id": "dfa62789",
   "metadata": {},
   "outputs": [
    {
     "data": {
      "text/plain": [
       "(7330, 4)"
      ]
     },
     "execution_count": 109,
     "metadata": {},
     "output_type": "execute_result"
    }
   ],
   "source": [
    "df1.shape"
   ]
  },
  {
   "cell_type": "code",
   "execution_count": 110,
   "id": "3f129044",
   "metadata": {},
   "outputs": [
    {
     "data": {
      "text/plain": [
       "'00E9D55DF2D749A691C0.zip'"
      ]
     },
     "execution_count": 110,
     "metadata": {},
     "output_type": "execute_result"
    }
   ],
   "source": [
    "df1[\"FileName\"][1]"
   ]
  },
  {
   "cell_type": "code",
   "execution_count": 111,
   "id": "56e54f9c",
   "metadata": {},
   "outputs": [
    {
     "data": {
      "text/plain": [
       "'extract_images_p0086903ui5v_20230706203430-3@1_1of1'"
      ]
     },
     "execution_count": 111,
     "metadata": {},
     "output_type": "execute_result"
    }
   ],
   "source": [
    "df1[\"Directory\"][1]"
   ]
  },
  {
   "cell_type": "code",
   "execution_count": 112,
   "id": "2cd3963e",
   "metadata": {
    "scrolled": true
   },
   "outputs": [
    {
     "data": {
      "text/plain": [
       "'extract_images_p0086903ui5v_20230706203430-3@1_1of1.zip'"
      ]
     },
     "execution_count": 112,
     "metadata": {},
     "output_type": "execute_result"
    }
   ],
   "source": [
    "df1[\"ZipFile\"][1]"
   ]
  },
  {
   "cell_type": "code",
   "execution_count": 113,
   "id": "c1805861",
   "metadata": {},
   "outputs": [
    {
     "data": {
      "text/plain": [
       "(7330, 4)"
      ]
     },
     "execution_count": 113,
     "metadata": {},
     "output_type": "execute_result"
    }
   ],
   "source": [
    "df1.shape"
   ]
  },
  {
   "cell_type": "code",
   "execution_count": 114,
   "id": "badc0118",
   "metadata": {},
   "outputs": [],
   "source": [
    "df11 = df1"
   ]
  },
  {
   "cell_type": "code",
   "execution_count": 119,
   "id": "37b94a84",
   "metadata": {},
   "outputs": [
    {
     "name": "stderr",
     "output_type": "stream",
     "text": [
      "C:\\Users\\Praful Bhoyar\\AppData\\Local\\Temp\\ipykernel_14100\\3790825930.py:2: FutureWarning: The default value of regex will change from True to False in a future version.\n",
      "  df1.loc[df1['ZipFile'].str.contains('.zip') & (df1['ZipFile'].str.replace('.zip', '') == df1['Directory']), 'Directory'] = ' '\n",
      "C:\\Users\\Praful Bhoyar\\AppData\\Local\\Temp\\ipykernel_14100\\3790825930.py:2: SettingWithCopyWarning: \n",
      "A value is trying to be set on a copy of a slice from a DataFrame\n",
      "\n",
      "See the caveats in the documentation: https://pandas.pydata.org/pandas-docs/stable/user_guide/indexing.html#returning-a-view-versus-a-copy\n",
      "  df1.loc[df1['ZipFile'].str.contains('.zip') & (df1['ZipFile'].str.replace('.zip', '') == df1['Directory']), 'Directory'] = ' '\n"
     ]
    }
   ],
   "source": [
    "# Compare the columns and replace column2 with \"NULL\" where the condition is met\n",
    "df1.loc[df1['ZipFile'].str.contains('.zip') & (df1['ZipFile'].str.replace('.zip', '') == df1['Directory']), 'Directory'] = ' '"
   ]
  },
  {
   "cell_type": "code",
   "execution_count": 120,
   "id": "a9b151e2",
   "metadata": {},
   "outputs": [
    {
     "data": {
      "text/html": [
       "<div>\n",
       "<style scoped>\n",
       "    .dataframe tbody tr th:only-of-type {\n",
       "        vertical-align: middle;\n",
       "    }\n",
       "\n",
       "    .dataframe tbody tr th {\n",
       "        vertical-align: top;\n",
       "    }\n",
       "\n",
       "    .dataframe thead th {\n",
       "        text-align: right;\n",
       "    }\n",
       "</style>\n",
       "<table border=\"1\" class=\"dataframe\">\n",
       "  <thead>\n",
       "    <tr style=\"text-align: right;\">\n",
       "      <th></th>\n",
       "      <th>SharePointPath</th>\n",
       "      <th>ZipFile</th>\n",
       "      <th>Directory</th>\n",
       "      <th>FileName</th>\n",
       "    </tr>\n",
       "  </thead>\n",
       "  <tbody>\n",
       "    <tr>\n",
       "      <th>1</th>\n",
       "      <td>Alvi_2023/Page 25</td>\n",
       "      <td>extract_images_p0086903ui5v_20230706203430-3@1...</td>\n",
       "      <td>NULL</td>\n",
       "      <td>00E9D55DF2D749A691C0.zip</td>\n",
       "    </tr>\n",
       "    <tr>\n",
       "      <th>2</th>\n",
       "      <td>Alvi_2023/Page 25</td>\n",
       "      <td>extract_images_p0086903ui5v_20230706203430-3@1...</td>\n",
       "      <td>NULL</td>\n",
       "      <td>00E9FE4AA2C14A87BC45.zip</td>\n",
       "    </tr>\n",
       "    <tr>\n",
       "      <th>3</th>\n",
       "      <td>Alvi_2023/Page 25</td>\n",
       "      <td>extract_images_p0086903ui5v_20230706203430-3@1...</td>\n",
       "      <td>NULL</td>\n",
       "      <td>00EA1117687F4A4EABB5.zip</td>\n",
       "    </tr>\n",
       "    <tr>\n",
       "      <th>4</th>\n",
       "      <td>Alvi_2023/Page 25</td>\n",
       "      <td>extract_images_p0086903ui5v_20230706203430-3@1...</td>\n",
       "      <td>NULL</td>\n",
       "      <td>00EA336A67F83C94B8133B12946F7AE0.png</td>\n",
       "    </tr>\n",
       "    <tr>\n",
       "      <th>5</th>\n",
       "      <td>Alvi_2023/Page 25</td>\n",
       "      <td>extract_images_p0086903ui5v_20230706203430-3@1...</td>\n",
       "      <td>NULL</td>\n",
       "      <td>00EA5A6495584DFFA729.zip</td>\n",
       "    </tr>\n",
       "  </tbody>\n",
       "</table>\n",
       "</div>"
      ],
      "text/plain": [
       "      SharePointPath                                            ZipFile  \\\n",
       "1  Alvi_2023/Page 25  extract_images_p0086903ui5v_20230706203430-3@1...   \n",
       "2  Alvi_2023/Page 25  extract_images_p0086903ui5v_20230706203430-3@1...   \n",
       "3  Alvi_2023/Page 25  extract_images_p0086903ui5v_20230706203430-3@1...   \n",
       "4  Alvi_2023/Page 25  extract_images_p0086903ui5v_20230706203430-3@1...   \n",
       "5  Alvi_2023/Page 25  extract_images_p0086903ui5v_20230706203430-3@1...   \n",
       "\n",
       "  Directory                              FileName  \n",
       "1      NULL              00E9D55DF2D749A691C0.zip  \n",
       "2      NULL              00E9FE4AA2C14A87BC45.zip  \n",
       "3      NULL              00EA1117687F4A4EABB5.zip  \n",
       "4      NULL  00EA336A67F83C94B8133B12946F7AE0.png  \n",
       "5      NULL              00EA5A6495584DFFA729.zip  "
      ]
     },
     "execution_count": 120,
     "metadata": {},
     "output_type": "execute_result"
    }
   ],
   "source": [
    "df1.head()"
   ]
  },
  {
   "cell_type": "code",
   "execution_count": 121,
   "id": "068c3b76",
   "metadata": {},
   "outputs": [
    {
     "data": {
      "text/plain": [
       "(7330, 4)"
      ]
     },
     "execution_count": 121,
     "metadata": {},
     "output_type": "execute_result"
    }
   ],
   "source": [
    "df1.shape"
   ]
  },
  {
   "cell_type": "code",
   "execution_count": 122,
   "id": "201dbc61",
   "metadata": {},
   "outputs": [
    {
     "name": "stderr",
     "output_type": "stream",
     "text": [
      "C:\\Users\\Praful Bhoyar\\AppData\\Local\\Temp\\ipykernel_14100\\4144392847.py:2: SettingWithCopyWarning: \n",
      "A value is trying to be set on a copy of a slice from a DataFrame.\n",
      "Try using .loc[row_indexer,col_indexer] = value instead\n",
      "\n",
      "See the caveats in the documentation: https://pandas.pydata.org/pandas-docs/stable/user_guide/indexing.html#returning-a-view-versus-a-copy\n",
      "  df1[\"ZipFile\"] = df1[\"ZipFile\"]+\".7z\"\n"
     ]
    }
   ],
   "source": [
    "# add .7z at the end\n",
    "df1[\"ZipFile\"] = df1[\"ZipFile\"]+\".7z\""
   ]
  },
  {
   "cell_type": "code",
   "execution_count": 123,
   "id": "84a94c02",
   "metadata": {},
   "outputs": [
    {
     "data": {
      "text/html": [
       "<div>\n",
       "<style scoped>\n",
       "    .dataframe tbody tr th:only-of-type {\n",
       "        vertical-align: middle;\n",
       "    }\n",
       "\n",
       "    .dataframe tbody tr th {\n",
       "        vertical-align: top;\n",
       "    }\n",
       "\n",
       "    .dataframe thead th {\n",
       "        text-align: right;\n",
       "    }\n",
       "</style>\n",
       "<table border=\"1\" class=\"dataframe\">\n",
       "  <thead>\n",
       "    <tr style=\"text-align: right;\">\n",
       "      <th></th>\n",
       "      <th>SharePointPath</th>\n",
       "      <th>ZipFile</th>\n",
       "      <th>Directory</th>\n",
       "      <th>FileName</th>\n",
       "    </tr>\n",
       "  </thead>\n",
       "  <tbody>\n",
       "    <tr>\n",
       "      <th>1</th>\n",
       "      <td>Alvi_2023/Page 25</td>\n",
       "      <td>extract_images_p0086903ui5v_20230706203430-3@1...</td>\n",
       "      <td>NULL</td>\n",
       "      <td>00E9D55DF2D749A691C0.zip</td>\n",
       "    </tr>\n",
       "    <tr>\n",
       "      <th>2</th>\n",
       "      <td>Alvi_2023/Page 25</td>\n",
       "      <td>extract_images_p0086903ui5v_20230706203430-3@1...</td>\n",
       "      <td>NULL</td>\n",
       "      <td>00E9FE4AA2C14A87BC45.zip</td>\n",
       "    </tr>\n",
       "    <tr>\n",
       "      <th>3</th>\n",
       "      <td>Alvi_2023/Page 25</td>\n",
       "      <td>extract_images_p0086903ui5v_20230706203430-3@1...</td>\n",
       "      <td>NULL</td>\n",
       "      <td>00EA1117687F4A4EABB5.zip</td>\n",
       "    </tr>\n",
       "    <tr>\n",
       "      <th>4</th>\n",
       "      <td>Alvi_2023/Page 25</td>\n",
       "      <td>extract_images_p0086903ui5v_20230706203430-3@1...</td>\n",
       "      <td>NULL</td>\n",
       "      <td>00EA336A67F83C94B8133B12946F7AE0.png</td>\n",
       "    </tr>\n",
       "    <tr>\n",
       "      <th>5</th>\n",
       "      <td>Alvi_2023/Page 25</td>\n",
       "      <td>extract_images_p0086903ui5v_20230706203430-3@1...</td>\n",
       "      <td>NULL</td>\n",
       "      <td>00EA5A6495584DFFA729.zip</td>\n",
       "    </tr>\n",
       "  </tbody>\n",
       "</table>\n",
       "</div>"
      ],
      "text/plain": [
       "      SharePointPath                                            ZipFile  \\\n",
       "1  Alvi_2023/Page 25  extract_images_p0086903ui5v_20230706203430-3@1...   \n",
       "2  Alvi_2023/Page 25  extract_images_p0086903ui5v_20230706203430-3@1...   \n",
       "3  Alvi_2023/Page 25  extract_images_p0086903ui5v_20230706203430-3@1...   \n",
       "4  Alvi_2023/Page 25  extract_images_p0086903ui5v_20230706203430-3@1...   \n",
       "5  Alvi_2023/Page 25  extract_images_p0086903ui5v_20230706203430-3@1...   \n",
       "\n",
       "  Directory                              FileName  \n",
       "1      NULL              00E9D55DF2D749A691C0.zip  \n",
       "2      NULL              00E9FE4AA2C14A87BC45.zip  \n",
       "3      NULL              00EA1117687F4A4EABB5.zip  \n",
       "4      NULL  00EA336A67F83C94B8133B12946F7AE0.png  \n",
       "5      NULL              00EA5A6495584DFFA729.zip  "
      ]
     },
     "execution_count": 123,
     "metadata": {},
     "output_type": "execute_result"
    }
   ],
   "source": [
    "df1.head()"
   ]
  },
  {
   "cell_type": "code",
   "execution_count": 124,
   "id": "0bd03f68",
   "metadata": {},
   "outputs": [
    {
     "data": {
      "text/html": [
       "<div>\n",
       "<style scoped>\n",
       "    .dataframe tbody tr th:only-of-type {\n",
       "        vertical-align: middle;\n",
       "    }\n",
       "\n",
       "    .dataframe tbody tr th {\n",
       "        vertical-align: top;\n",
       "    }\n",
       "\n",
       "    .dataframe thead th {\n",
       "        text-align: right;\n",
       "    }\n",
       "</style>\n",
       "<table border=\"1\" class=\"dataframe\">\n",
       "  <thead>\n",
       "    <tr style=\"text-align: right;\">\n",
       "      <th></th>\n",
       "      <th>SharePointPath</th>\n",
       "      <th>ZipFile</th>\n",
       "      <th>Directory</th>\n",
       "      <th>FileName</th>\n",
       "    </tr>\n",
       "  </thead>\n",
       "  <tbody>\n",
       "    <tr>\n",
       "      <th>7330</th>\n",
       "      <td>Alvi_2023/Page 25</td>\n",
       "      <td>extract_images_p0086903ui5v_20230706203430-42@...</td>\n",
       "      <td>137D7E02B8E542C2B8E6</td>\n",
       "      <td>137D7E02B8E542C2B8E6_755DDAA03E0B3D5C9F4D2678B...</td>\n",
       "    </tr>\n",
       "    <tr>\n",
       "      <th>7331</th>\n",
       "      <td>Alvi_2023/Page 25</td>\n",
       "      <td>extract_images_p0086903ui5v_20230706203430-42@...</td>\n",
       "      <td>137E188C90394C84A538</td>\n",
       "      <td>137E188C90394C84A538_415F3192B10E365D901275308...</td>\n",
       "    </tr>\n",
       "    <tr>\n",
       "      <th>7332</th>\n",
       "      <td>Alvi_2023/Page 25</td>\n",
       "      <td>extract_images_p0086903ui5v_20230706203430-42@...</td>\n",
       "      <td>137E7B0131D24BDA9104</td>\n",
       "      <td>137E7B0131D24BDA9104_51AC908406B23E7BAFC0BD6D7...</td>\n",
       "    </tr>\n",
       "    <tr>\n",
       "      <th>7333</th>\n",
       "      <td>Alvi_2023/Page 25</td>\n",
       "      <td>extract_images_p0086903ui5v_20230706203430-42@...</td>\n",
       "      <td>137E7B0131D24BDA9104</td>\n",
       "      <td>137E7B0131D24BDA9104_8B059DD2FA0539EBB9535C1E1...</td>\n",
       "    </tr>\n",
       "    <tr>\n",
       "      <th>7334</th>\n",
       "      <td>Alvi_2023/Page 25</td>\n",
       "      <td>extract_images_p0086903ui5v_20230706203430-42@...</td>\n",
       "      <td>137E7B0131D24BDA9104</td>\n",
       "      <td>137E7B0131D24BDA9104_F3F61E82D7CD36A79C3DA4921...</td>\n",
       "    </tr>\n",
       "  </tbody>\n",
       "</table>\n",
       "</div>"
      ],
      "text/plain": [
       "         SharePointPath                                            ZipFile  \\\n",
       "7330  Alvi_2023/Page 25  extract_images_p0086903ui5v_20230706203430-42@...   \n",
       "7331  Alvi_2023/Page 25  extract_images_p0086903ui5v_20230706203430-42@...   \n",
       "7332  Alvi_2023/Page 25  extract_images_p0086903ui5v_20230706203430-42@...   \n",
       "7333  Alvi_2023/Page 25  extract_images_p0086903ui5v_20230706203430-42@...   \n",
       "7334  Alvi_2023/Page 25  extract_images_p0086903ui5v_20230706203430-42@...   \n",
       "\n",
       "                 Directory                                           FileName  \n",
       "7330  137D7E02B8E542C2B8E6  137D7E02B8E542C2B8E6_755DDAA03E0B3D5C9F4D2678B...  \n",
       "7331  137E188C90394C84A538  137E188C90394C84A538_415F3192B10E365D901275308...  \n",
       "7332  137E7B0131D24BDA9104  137E7B0131D24BDA9104_51AC908406B23E7BAFC0BD6D7...  \n",
       "7333  137E7B0131D24BDA9104  137E7B0131D24BDA9104_8B059DD2FA0539EBB9535C1E1...  \n",
       "7334  137E7B0131D24BDA9104  137E7B0131D24BDA9104_F3F61E82D7CD36A79C3DA4921...  "
      ]
     },
     "execution_count": 124,
     "metadata": {},
     "output_type": "execute_result"
    }
   ],
   "source": [
    "df1.tail()"
   ]
  },
  {
   "cell_type": "code",
   "execution_count": 126,
   "id": "a3969624",
   "metadata": {},
   "outputs": [
    {
     "data": {
      "text/plain": [
       "'00F67857D49542E0B947_32C12976831B3BE1BFAA0BD0DD868CF5.jpg'"
      ]
     },
     "execution_count": 126,
     "metadata": {},
     "output_type": "execute_result"
    }
   ],
   "source": [
    "df1[\"FileName\"][732]"
   ]
  },
  {
   "cell_type": "code",
   "execution_count": null,
   "id": "68d57b5d",
   "metadata": {},
   "outputs": [],
   "source": []
  }
 ],
 "metadata": {
  "kernelspec": {
   "display_name": "Python 3 (ipykernel)",
   "language": "python",
   "name": "python3"
  },
  "language_info": {
   "codemirror_mode": {
    "name": "ipython",
    "version": 3
   },
   "file_extension": ".py",
   "mimetype": "text/x-python",
   "name": "python",
   "nbconvert_exporter": "python",
   "pygments_lexer": "ipython3",
   "version": "3.9.13"
  }
 },
 "nbformat": 4,
 "nbformat_minor": 5
}
